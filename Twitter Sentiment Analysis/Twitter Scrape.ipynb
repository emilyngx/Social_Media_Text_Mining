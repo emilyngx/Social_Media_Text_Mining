{
 "cells": [
  {
   "cell_type": "code",
   "execution_count": 1,
   "metadata": {},
   "outputs": [],
   "source": [
    "consumer_key = \"LJ2SM3gHQvCXMDjnJ31uUC6bQ\"\n",
    "consumer_secret = \"QJp8J5FKhSTybxRQZWhFGITz4WIumIplXR9Ab0vUoEtz4YJKt3\"\n",
    "#Bearer Token: AAAAAAAAAAAAAAAAAAAAABr9RAEAAAAAlFBbM9tzvooXBlLF0tPaDxxB%2FvQ%3DhsLxxroxIqwksBd6LLbdMzf2l6XOyloGdyp6FsUoQ0n6lUoqov\n",
    "access_token = \"1404978163608821761-XXkuA1U4VjKRIP6c5LUQesKS7CDeLg\"\n",
    "access_token_secret = \"sMhgkLFGWcwHt2yEb4UmjtT1IUIZhZ5o3K1bPQ2TVmC5x\""
   ]
  },
  {
   "cell_type": "code",
   "execution_count": 2,
   "metadata": {},
   "outputs": [],
   "source": [
    "import tweepy\n",
    "import pandas as pd"
   ]
  },
  {
   "cell_type": "code",
   "execution_count": 3,
   "metadata": {},
   "outputs": [],
   "source": [
    "auth = tweepy.OAuthHandler(consumer_key, consumer_secret)\n",
    "auth.set_access_token(access_token, access_token_secret)\n",
    "api = tweepy.API(auth, wait_on_rate_limit=True, wait_on_rate_limit_notify=True)"
   ]
  },
  {
   "cell_type": "markdown",
   "metadata": {},
   "source": [
    "username = 'username'\n",
    "count = 200\n",
    "try:     \n",
    " # Creation of query method using parameters\n",
    " tweets = tweepy.Cursor(api.user_timeline,id=username).items(count)\n",
    " \n",
    " # Pulling information from tweets iterable object\n",
    " tweets_list = [[tweet.created_at, tweet.id, tweet.text] for tweet in tweets]\n",
    " \n",
    " # Creation of dataframe from tweets list\n",
    " # Add or remove columns as you remove tweet information\n",
    " tweets_df = pd.DataFrame(tweets_list)\n",
    "except BaseException as e:\n",
    "      print('failed on_status,',str(e))\n",
    "      time.sleep(3)"
   ]
  },
  {
   "cell_type": "markdown",
   "metadata": {},
   "source": [
    "tweets_df"
   ]
  },
  {
   "cell_type": "markdown",
   "metadata": {},
   "source": [
    "tweets_df.columns = ['Time', 'ID', 'Text']\n",
    "tweets_df"
   ]
  },
  {
   "cell_type": "code",
   "execution_count": 4,
   "metadata": {},
   "outputs": [
    {
     "name": "stdout",
     "output_type": "stream",
     "text": [
      "                                                 Tweet           @ Name\n",
      "0    \"Investments in sexual and reproductive health...     FP2030Global\n",
      "1    @SharonJWright1 Have her read this — Nancy Pel...  lucinda_herbert\n",
      "2    @BlockyBlock6 @SummFlowers_ @caroledwine As so...  DesignerErica27\n",
      "3    TIL Britney Spears has been forced to use an I...           kurtsh\n",
      "4    @UN_Women Men have no reproductive rights. Men...    jeffpmilligan\n",
      "..                                                 ...              ...\n",
      "995  @RepMattGaetz So you are gonna let her own her...       AndreaR9Md\n",
      "996  From an organization solely focused on reprodu...    RealTayChaTLC\n",
      "997  @Dilophosaur13 Mmm I’d imagine it’s the same t...   masked_awesome\n",
      "998  @davidsirota @Thor_LM Does this guy realize hi...        BabsGamez\n",
      "999  @NPR Why should a man who abandoned his family...     NatalieDonna\n",
      "\n",
      "[1000 rows x 2 columns]\n"
     ]
    }
   ],
   "source": [
    "tweets = []\n",
    "\n",
    "count = 1000\n",
    "\n",
    "for tweet in tweepy.Cursor(api.search, q=\"reproductive rights\"+'-filter:retweets', since='2021-04-30', tweet_mode='extended',\n",
    "                           lang='en').items(count):\n",
    "\n",
    "    try:\n",
    "        data = [tweet.full_text, tweet.user.screen_name]\n",
    "        data = tuple(data)\n",
    "        tweets.append(data)\n",
    "\n",
    "    except tweepy.TweepError as e:\n",
    "        print(e.reason)\n",
    "        continue\n",
    "\n",
    "    except StopIteration:\n",
    "        break\n",
    "\n",
    "df = pd.DataFrame(tweets,\n",
    "                  columns=['Tweet', '@ Name'])\n",
    "\n",
    "print(df)"
   ]
  },
  {
   "cell_type": "code",
   "execution_count": 5,
   "metadata": {},
   "outputs": [],
   "source": [
    "df.to_csv('reproductiverights.csv')"
   ]
  },
  {
   "cell_type": "markdown",
   "metadata": {},
   "source": [
    "df.to_csv('test0.csv')"
   ]
  },
  {
   "cell_type": "code",
   "execution_count": 6,
   "metadata": {},
   "outputs": [
    {
     "name": "stdout",
     "output_type": "stream",
     "text": [
      "                                                 Tweet           @ Name\n",
      "0    @jessismiles__ I will continue to contact @You...   tayloralpain13\n",
      "1    I saw too many pregnancy announcements yesterd...    foreverakiraa\n",
      "2    Some countries consider pregnancy at the age o...         Moraah__\n",
      "3    Did you know that in the UK, the time limit to...            BxFys\n",
      "4    Heartburn During #Pregnancy https://t.co/yF6qt...  stepbysteppreg1\n",
      "..                                                 ...              ...\n",
      "995  Learn how to best take care of yourself after ...  womenandinfants\n",
      "996  @loxleyg Don't worry duck, my fanny seized up ...         chealy72\n",
      "997  Since I shared my new journey starting birth w...      viabrittney\n",
      "998  ❤️‍🩹 Having a child after conception, pregnanc...  BornToBirthYoga\n",
      "999  #babygirl ADOME Soft Maternity &amp; Nursing P...    Genealogyhome\n",
      "\n",
      "[1000 rows x 2 columns]\n"
     ]
    }
   ],
   "source": [
    "tweets1 = []\n",
    "\n",
    "count = 1000\n",
    "\n",
    "for tweet in tweepy.Cursor(api.search, q=\"pregnancy\"+'-filter:retweets', since='2021-04-30', tweet_mode='extended',\n",
    "                           lang='en').items(count):\n",
    "\n",
    "    try:\n",
    "        data = [tweet.full_text, tweet.user.screen_name]\n",
    "        data = tuple(data)\n",
    "        tweets1.append(data)\n",
    "\n",
    "    except tweepy.TweepError as e:\n",
    "        print(e.reason)\n",
    "        continue\n",
    "\n",
    "    except StopIteration:\n",
    "        break\n",
    "\n",
    "df1 = pd.DataFrame(tweets1,\n",
    "                  columns=['Tweet', '@ Name'])\n",
    "\n",
    "print(df1)"
   ]
  },
  {
   "cell_type": "code",
   "execution_count": 7,
   "metadata": {},
   "outputs": [],
   "source": [
    "df1.to_csv('pregnancy.csv')"
   ]
  },
  {
   "cell_type": "code",
   "execution_count": 11,
   "metadata": {},
   "outputs": [
    {
     "name": "stdout",
     "output_type": "stream",
     "text": [
      "                                                Tweet           @ Name\n",
      "0               @guigussauro @UrFaveBrazilian hum nam         Jack_SB8\n",
      "1   Yo @JamesGunn here's another one you could use...      brucerockac\n",
      "2   SB8/29 John Straker, Silver Blaze's late train...  holmestwtholmes\n",
      "3   Girls in lingerie will keep you busy this Sund...      paulamusick\n",
      "4   Sign the petition. Sha'Carri Richardson suspen...          IAM_SB8\n",
      "5   Not waiting on this SB8 drop anymore! Just did...       Kickz_Ahoy\n",
      "6   @CHINNIE1380 Last couple pics I’ve seen I was ...           TWNTY8\n",
      "7   Check out MacGregor Softball Baseball Glove SB...   mrnmrsdcpicker\n",
      "8               S P O I L E R https://t.co/VNdBatS2mf         Jack_SB8\n",
      "9   ICYMI: More good news! Last night, the CA Asse...   NancySkinnerCA\n",
      "10  @IAM_SB8 @coach__tuck @GSV_STL @PrepRedzoneIL ...     sportsthread\n",
      "11  Almost 6pm- Assembly Local Gov starting now! S...         AlexT_54\n",
      "12  Blessed to receive my 3rd division 2 offer fro...          IAM_SB8\n",
      "13                 @Jack_SB8 When you are the hot one     IchbinSofaia\n",
      "14                      @rod_shawty shoreaste?👌👌👌😂😂😂😂         Jack_SB8\n",
      "15  Check Out The New Smash From Oblivion @SANDRAV...    2themillbeats\n",
      "16  After Sept. 1, TX’ Senate Bill 8 (SB 8) would ...      PPGulfCoast\n",
      "17                  ✨𝑺𝒖𝒏𝒓𝒊𝒔𝒆✨ https://t.co/fihKNI8gXK          fay_sb8\n",
      "18  Division 1,2,or 3 it don’t matter I got a oppo...          IAM_SB8\n",
      "19  SB8/15 Holmes listens carefully to Helen's sto...  holmestwtholmes\n",
      "20  @iHATESNKRS @You_AIO Miami night 8s going for ...     Tampasneaker\n",
      "21  This is very interesting. \"Accelerates the sun...     k_mosbrucker\n",
      "22  The Triple-B, Your Lordship. (40 Photos) 🙃 htt...  helen_sublett15\n",
      "23  @AllekVeloso @gatocomcancer1 @Jack_SB8 @Pessoa...   corote_de_odio\n"
     ]
    }
   ],
   "source": [
    "tweets2 = []\n",
    "\n",
    "count = 215\n",
    "\n",
    "for tweet in tweepy.Cursor(api.search, q=\"sb8\"+'-filter:retweets', since='2021-04-30', tweet_mode='extended',\n",
    "                           lang='en').items(count):\n",
    "\n",
    "    try:\n",
    "        data = [tweet.full_text, tweet.user.screen_name]\n",
    "        data = tuple(data)\n",
    "        tweets2.append(data)\n",
    "\n",
    "    except tweepy.TweepError as e:\n",
    "        print(e.reason)\n",
    "        continue\n",
    "\n",
    "    except StopIteration:\n",
    "        break\n",
    "\n",
    "df2 = pd.DataFrame(tweets2,\n",
    "                  columns=['Tweet', '@ Name'])\n",
    "\n",
    "print(df2)"
   ]
  },
  {
   "cell_type": "code",
   "execution_count": 12,
   "metadata": {},
   "outputs": [],
   "source": [
    "df2.to_csv('sb8.csv')"
   ]
  },
  {
   "cell_type": "code",
   "execution_count": 13,
   "metadata": {},
   "outputs": [
    {
     "name": "stdout",
     "output_type": "stream",
     "text": [
      "                                                 Tweet           @ Name\n",
      "0    Birthday Stone Ring / Simple diamond rings / B...   shinystonelove\n",
      "1    @roderickgraham In a surprise twist, making it...      Quackackjac\n",
      "2    @MzDeeDei She didn’t even want him around the ...   russtestaverde\n",
      "3    @RenaeLuvsMovies 🎶Show no fear, for she may fa...     mesquitirock\n",
      "4    my bodys gonna be having a ball when i get on ...        venusthey\n",
      "..                                                 ...              ...\n",
      "995  @williamRN7 @2tweetaboutit @JeremyVineOn5 What...  DJVinnyVincenzo\n",
      "996  our school programme was so focused on memoriz...     bladesjogger\n",
      "997  @Hurts2Smitty6 @YourProcessGuy No need for bir...    RuinedBullpen\n",
      "998  #GodMorningMonday\\nTHOSE WHO DO WORSHIP AGAINS...      SubhamDass4\n",
      "999  @MR_GD_LXIX Thank you Greg, based on the birth...       SimoneBett\n",
      "\n",
      "[1000 rows x 2 columns]\n"
     ]
    }
   ],
   "source": [
    "tweets3 = []\n",
    "\n",
    "count = 1000\n",
    "\n",
    "for tweet in tweepy.Cursor(api.search, q=\"birth\"+'-filter:retweets', since='2021-04-30', tweet_mode='extended',\n",
    "                           lang='en').items(count):\n",
    "\n",
    "    try:\n",
    "        data = [tweet.full_text, tweet.user.screen_name]\n",
    "        data = tuple(data)\n",
    "        tweets3.append(data)\n",
    "\n",
    "    except tweepy.TweepError as e:\n",
    "        print(e.reason)\n",
    "        continue\n",
    "\n",
    "    except StopIteration:\n",
    "        break\n",
    "\n",
    "df3 = pd.DataFrame(tweets3,\n",
    "                  columns=['Tweet', '@ Name'])\n",
    "\n",
    "print(df3)"
   ]
  },
  {
   "cell_type": "code",
   "execution_count": 14,
   "metadata": {},
   "outputs": [],
   "source": [
    "df3.to_csv('birth.csv')"
   ]
  },
  {
   "cell_type": "code",
   "execution_count": 15,
   "metadata": {},
   "outputs": [
    {
     "name": "stdout",
     "output_type": "stream",
     "text": [
      "                                                 Tweet           @ Name\n",
      "0    Reading experiences from women about delayed p...    lilmiss_wells\n",
      "1    @CineBlah Because famously prior to 1978 nobod...  sadgalaesthetic\n",
      "2    of my grandmother's generation of her side of ...    Patricipacion\n",
      "3    @strippereIIa @BigShannon79 @rook_blz @princes...       _EVILJESUS\n",
      "4        PLS IM INFERTILE 😭😭😭😭 https://t.co/Lcj9MokVT9         yankscyt\n",
      "..                                                 ...              ...\n",
      "995  Older (infertile) women don’t want relationshi...     TruthIsADare\n",
      "996  @fl0wersf0rh0urs There is no m*le who ever gav...      Cute_radfem\n",
      "997  you know what the most insane part of infertil...     anniversarah\n",
      "998  @SeoirseDuffy_ Fashion?\\n\\nOh, I am 38 and way...     iand62986733\n",
      "999  we harvest fruits in places where it is not co...          JsDacal\n",
      "\n",
      "[1000 rows x 2 columns]\n"
     ]
    }
   ],
   "source": [
    "tweets4 = []\n",
    "\n",
    "count = 1000\n",
    "\n",
    "for tweet in tweepy.Cursor(api.search, q=\"infertile\"+'-filter:retweets', since='2021-04-30', tweet_mode='extended',\n",
    "                           lang='en').items(count):\n",
    "\n",
    "    try:\n",
    "        data = [tweet.full_text, tweet.user.screen_name]\n",
    "        data = tuple(data)\n",
    "        tweets4.append(data)\n",
    "\n",
    "    except tweepy.TweepError as e:\n",
    "        print(e.reason)\n",
    "        continue\n",
    "\n",
    "    except StopIteration:\n",
    "        break\n",
    "\n",
    "df4 = pd.DataFrame(tweets4,\n",
    "                  columns=['Tweet', '@ Name'])\n",
    "\n",
    "print(df4)"
   ]
  },
  {
   "cell_type": "code",
   "execution_count": 16,
   "metadata": {},
   "outputs": [],
   "source": [
    "df4.to_csv('infertile.csv')"
   ]
  },
  {
   "cell_type": "code",
   "execution_count": 18,
   "metadata": {
    "scrolled": true
   },
   "outputs": [
    {
     "name": "stdout",
     "output_type": "stream",
     "text": [
      "                                                 Tweet           @ Name\n",
      "0                          @deejayumb Well… #youknowme      EdgarKruize\n",
      "1    @youknowme_lolno Can't add you, you mind follo...          ffsyall\n",
      "2    @ShivAroor Invite her in your next debate..she...    _YouKnowMe_07\n",
      "3                    @not_kushagra literally THE worst  youknowme_lolno\n",
      "4                      @not_kushagra next one for sure  youknowme_lolno\n",
      "..                                                 ...              ...\n",
      "160  @Youknowme_tdj @M_Squared59 @NickNonnenmach1 @...     johnnyrodri1\n",
      "161         @sadbostonfan Jalen Ramsey made the play 😂    Youknowme_tdj\n",
      "162                             @charlieINTEL Nuketown    Youknowme_tdj\n",
      "163  @_YouKnowMe_07 @ToddHedger @ShivAroor Words fr...  doppelidentitat\n",
      "164  @ToddHedger @ShivAroor Surrender army 😂😂👇 http...    _YouKnowMe_07\n",
      "\n",
      "[165 rows x 2 columns]\n"
     ]
    }
   ],
   "source": [
    "tweets5 = []\n",
    "\n",
    "count = 1000\n",
    "\n",
    "for tweet in tweepy.Cursor(api.search, q=\"youknowme\"+'-filter:retweets', since='2021-04-30', tweet_mode='extended',\n",
    "                           lang='en').items(count):\n",
    "\n",
    "    try:\n",
    "        data = [tweet.full_text, tweet.user.screen_name]\n",
    "        data = tuple(data)\n",
    "        tweets5.append(data)\n",
    "\n",
    "    except tweepy.TweepError as e:\n",
    "        print(e.reason)\n",
    "        continue\n",
    "\n",
    "    except StopIteration:\n",
    "        break\n",
    "\n",
    "df5 = pd.DataFrame(tweets5,\n",
    "                  columns=['Tweet', '@ Name'])\n",
    "\n",
    "print(df5)"
   ]
  },
  {
   "cell_type": "code",
   "execution_count": 4,
   "metadata": {},
   "outputs": [
    {
     "name": "stdout",
     "output_type": "stream",
     "text": [
      "                                                Tweet           @ Name\n",
      "0   @GeraldoRivera Many states have passed “the no...   dizzle72711355\n",
      "1   #NowPlaying Bill O’Connell; Waters of March; H...    davidgolden99\n",
      "2   You can still be a pro life candidate in Calif...      itsrayperez\n",
      "3   @RBReich I bet you if the markets crash the bi...  AbrahamGoldman7\n",
      "4   @kittymilford1 I’d take bill Murray in a heart...       elle_vegas\n",
      "5   Playing Celine Dion - Where Does My Heart Beat...     MrBillRadio1\n",
      "6   @rogue_trader_19 He tries so hard but forgets ...         evrager1\n",
      "7   The Heart Beat Bill will not reduce abortions,...       delia_mims\n",
      "8   @HarrisOzias @pro13A @classicallyabby Pt2. Con...     Lyla_louise1\n",
      "9   What a wonderful summation, \"Ted Lasso is real...        AndrewNez\n",
      "10  Não precisam de ler mais nada. Só isto: “Ted L...    fcondemartins\n",
      "11  @lbarronlopez @samstein Change the filibuster ...       kenmoore61\n",
      "12  @AnnieXFlowers In mine that I haven't posted i...  DanaScullyMulde\n",
      "13  @wisconsinlogic @argus_constant @SteveSchmidtS...     Candy_Smitty\n"
     ]
    }
   ],
   "source": [
    "tweets6 = []\n",
    "\n",
    "count = 1000\n",
    "\n",
    "for tweet in tweepy.Cursor(api.search, q=\"heart beat bill\"+'-filter:retweets', since='2021-04-30', tweet_mode='extended',\n",
    "                           lang='en').items(count):\n",
    "\n",
    "    try:\n",
    "        data = [tweet.full_text, tweet.user.screen_name]\n",
    "        data = tuple(data)\n",
    "        tweets6.append(data)\n",
    "\n",
    "    except tweepy.TweepError as e:\n",
    "        print(e.reason)\n",
    "        continue\n",
    "\n",
    "    except StopIteration:\n",
    "        break\n",
    "\n",
    "df6 = pd.DataFrame(tweets6,\n",
    "                  columns=['Tweet', '@ Name'])\n",
    "\n",
    "print(df6)"
   ]
  },
  {
   "cell_type": "code",
   "execution_count": 1,
   "metadata": {},
   "outputs": [
    {
     "ename": "NameError",
     "evalue": "name 'df2' is not defined",
     "output_type": "error",
     "traceback": [
      "\u001b[0;31m---------------------------------------------------------------------------\u001b[0m",
      "\u001b[0;31mNameError\u001b[0m                                 Traceback (most recent call last)",
      "\u001b[0;32m<ipython-input-1-2068723f1203>\u001b[0m in \u001b[0;36m<module>\u001b[0;34m\u001b[0m\n\u001b[0;32m----> 1\u001b[0;31m \u001b[0mdf2\u001b[0m\u001b[0;34m\u001b[0m\u001b[0;34m\u001b[0m\u001b[0m\n\u001b[0m",
      "\u001b[0;31mNameError\u001b[0m: name 'df2' is not defined"
     ]
    }
   ],
   "source": []
  }
 ],
 "metadata": {
  "kernelspec": {
   "display_name": "Python 3",
   "language": "python",
   "name": "python3"
  },
  "language_info": {
   "codemirror_mode": {
    "name": "ipython",
    "version": 3
   },
   "file_extension": ".py",
   "mimetype": "text/x-python",
   "name": "python",
   "nbconvert_exporter": "python",
   "pygments_lexer": "ipython3",
   "version": "3.8.8"
  }
 },
 "nbformat": 4,
 "nbformat_minor": 4
}
