{
 "cells": [
  {
   "cell_type": "code",
   "execution_count": 1,
   "id": "265f06bb",
   "metadata": {},
   "outputs": [],
   "source": [
    "import pandas as pd\n",
    "import numpy as np\n",
    "import re\n",
    "import nltk"
   ]
  },
  {
   "cell_type": "code",
   "execution_count": null,
   "id": "d43134ef",
   "metadata": {},
   "outputs": [],
   "source": [
    "#Deleted df = pd.read_excel + df.to_csv"
   ]
  },
  {
   "cell_type": "code",
   "execution_count": null,
   "id": "ac6e8538",
   "metadata": {},
   "outputs": [],
   "source": [
    "#Restarted kernal and run all"
   ]
  },
  {
   "cell_type": "code",
   "execution_count": 2,
   "id": "15f4f9fd",
   "metadata": {},
   "outputs": [],
   "source": [
    "df = pd.read_csv('Main_tweet_data.csv')\n",
    "df = df.iloc[:,1:]"
   ]
  },
  {
   "cell_type": "code",
   "execution_count": 3,
   "id": "beb2467e",
   "metadata": {
    "scrolled": false
   },
   "outputs": [
    {
     "name": "stdout",
     "output_type": "stream",
     "text": [
      "                                                    Text               ID\n",
      "0      Call up that time machine and warn your father...         lSheeksl\n",
      "1      @WArthurJ1 @KristanHawkins Who is forcing you ...       united6059\n",
      "2      im inspired by kleo's tweets from last night b...      jewishdelly\n",
      "3      WHAT hAPPENS DURING THE ABORTION PROCESS?\\n2nd...     Girl33French\n",
      "4      @fight4women @PickleMrs @BobDolan111 @OzGoofyP...     JerryRBarton\n",
      "...                                                  ...              ...\n",
      "11339  SB8/15 Holmes listens carefully to Helen's sto...  holmestwtholmes\n",
      "11340  @iHATESNKRS @You_AIO Miami night 8s going for ...     Tampasneaker\n",
      "11341  This is very interesting. \"Accelerates the sun...     k_mosbrucker\n",
      "11342  The Triple-B, Your Lordship. (40 Photos) ・・・・ ...  helen_sublett15\n",
      "11343  @AllekVeloso @gatocomcancer1 @Jack_SB8 @Pessoa...   corote_de_odio\n",
      "\n",
      "[11344 rows x 2 columns]\n"
     ]
    }
   ],
   "source": [
    "print(df)"
   ]
  },
  {
   "cell_type": "code",
   "execution_count": 4,
   "id": "77f704b8",
   "metadata": {},
   "outputs": [
    {
     "data": {
      "text/plain": [
       "array(['Call up that time machine and warn your father to take your mom to the abortion center when she is pregnant with you https://t.co/gxGoleVKOY',\n",
       "       '@WArthurJ1 @KristanHawkins Who is forcing you to have an abortion?',\n",
       "       'im inspired by kleo\\'s tweets from last night but the \"keep abortion rare\" messaging just further portrays abortion as some bad thing',\n",
       "       ...,\n",
       "       'This is very interesting. \"Accelerates the sunset date for the tax credit for the conversion of alternative fuel vehicles.\" https://t.co/ylNrpMX5E9',\n",
       "       'The Triple-B, Your Lordship. (40 Photos) ・・・・ https://t.co/tRaJllwwbu',\n",
       "       '@AllekVeloso @gatocomcancer1 @Jack_SB8 @Pessoas1QI real https://t.co/vPOCQv8Gpc'],\n",
       "      dtype=object)"
      ]
     },
     "execution_count": 4,
     "metadata": {},
     "output_type": "execute_result"
    }
   ],
   "source": [
    "corpus = np.array(df['Text'])\n",
    "corpus = corpus.ravel()\n",
    "corpus"
   ]
  },
  {
   "cell_type": "code",
   "execution_count": 6,
   "id": "04b45770",
   "metadata": {},
   "outputs": [],
   "source": [
    "for i in range(0,len(df['Text'])):\n",
    "    df['Text'][i] = re.sub(r'@[A-Za-z0-9]+','',str(df['Text'][i]))"
   ]
  },
  {
   "cell_type": "code",
   "execution_count": 10,
   "id": "7f1c12a1",
   "metadata": {},
   "outputs": [
    {
     "data": {
      "text/plain": [
       "0        Call up that time machine and warn your father...\n",
       "1                  Who is forcing you to have an abortion?\n",
       "2        im inspired by kleo's tweets from last night b...\n",
       "3        WHAT hAPPENS DURING THE ABORTION PROCESS?\\n2nd...\n",
       "4                _chels _house          _RaySmith    Wr...\n",
       "                               ...                        \n",
       "11339    SB8/15 Holmes listens carefully to Helen's sto...\n",
       "11340     _AIO Miami night 8s going for retail・ｦ・ｦthe...\n",
       "11341    This is very interesting. \"Accelerates the sun...\n",
       "11342    The Triple-B, Your Lordship. (40 Photos) ・・・・ ...\n",
       "11343                   _SB8  real https://t.co/vPOCQv8Gpc\n",
       "Name: Text, Length: 11344, dtype: object"
      ]
     },
     "execution_count": 10,
     "metadata": {},
     "output_type": "execute_result"
    }
   ],
   "source": [
    "df['Text']"
   ]
  },
  {
   "cell_type": "code",
   "execution_count": 11,
   "id": "d0bb119f",
   "metadata": {},
   "outputs": [],
   "source": [
    "def remove_url(txt):\n",
    "    return \" \".join(re.sub(\"([^0-9A-Za-z \\t])|(\\w+:\\/\\/\\S+)\", \"\", txt).split())"
   ]
  },
  {
   "cell_type": "code",
   "execution_count": 15,
   "id": "b0ca0260",
   "metadata": {},
   "outputs": [
    {
     "data": {
      "text/plain": [
       "array(['Call up that time machine and warn your father to take your mom to the abortion center when she is pregnant with you',\n",
       "       'Who is forcing you to have an abortion',\n",
       "       'im inspired by kleos tweets from last night but the keep abortion rare messaging just further portrays abortion as some bad thing',\n",
       "       'WHAT hAPPENS DURING THE ABORTION PROCESS2nd Trimester Surgical Abortion Dilation and Evacuation D amp E via',\n",
       "       'chels house RaySmith Wrong Abortion kills a baby that will never be born ever Lying want ease your conscience',\n",
       "       'Why are bullshit anti abortion billboards everywhere They literally arenEEt truthful and they are meant to fear monger In my dream world we would all be lizards Everybody would move in silence and with purpose Honestly ideal',\n",
       "       'Didnt you vote on genocide denialThey have forced abortion that isnt a feminist cause to youThen I dont like these women and their mulesIm always suspicious when they want to single out the women and show them to youThese women are worthless',\n",
       "       'lgbtq Or do you just want to punish women for having sex I suspect it is the latter When abortion was illegal it still occurred',\n",
       "       'They should consult with their doctorsAbortion is very rarely the only EEchoiceEE itEEs just the only choice that you advocate forEEEEEE',\n",
       "       'lgbtq Since when has making abortion illegal stopped it Do you support easy access to freelow cost contraception Medically accurate sex education',\n",
       "       'i really dont care if abortion is rare or not i just want it to be accessible',\n",
       "       'xreyna You know what violates a female purposely ending their life Abortion ends a human life ThatEEs not opinion thatEEs science',\n",
       "       'Why are Democrats so obsessed withRaceGenderSexual preferenceAbortionPedophiliaBecause they are evil and antiAmericanMeToo CRTDragRaceBlackLivesMatterPride2021BlackTwitterBillCosbyConservativesChina FreeBritneyhowlongdoyouthinkitsgonnalast',\n",
       "       'wavves Abortion yeah but not lgbtq rights And are you a feminist',\n",
       "       'A shocking new study published in the New England Journal of Medicine reveals that when pregnant women are given covid vaccinations during their first or second trimesters they suffer an 82 spontaneous abortion rate killing 4 out of 5 unborn babies',\n",
       "       'What part of supporting abortion is not EEproabortionEE',\n",
       "       'Brianna McNeal didnt want to tell antidoping officials that she had missed a drug test because she was in bed after having an abortion But then she felt forced to She needed to clear her name',\n",
       "       'cucumber soda watermelon soda weird coconut dessert drink thing taro sweets and most of the people that reply to me regarding my abortion views are like',\n",
       "       'IS your ABORTION PROVIDER PROVIDING ESSENTIAL INFORMATIONWhat is the Chemical Abortion Pill Episode 1 via',\n",
       "       'cmf The Dem position is EEaccess to abortion at all stages for any reason at all is an integral part of healthcare and any restriction at all in an attack on human rightsEE'],\n",
       "      dtype='<U339')"
      ]
     },
     "execution_count": 15,
     "metadata": {},
     "output_type": "execute_result"
    }
   ],
   "source": [
    "corpus = [remove_url(Text) for Text in df['Text']]\n",
    "corpus = np.array(corpus)\n",
    "corpus = corpus.ravel()\n",
    "corpus[:20]"
   ]
  },
  {
   "cell_type": "markdown",
   "id": "be52bc41",
   "metadata": {},
   "source": [
    "#IGNORE THIS"
   ]
  },
  {
   "cell_type": "code",
   "execution_count": null,
   "id": "67d9ad46",
   "metadata": {},
   "outputs": [],
   "source": [
    "string.punctuation"
   ]
  },
  {
   "cell_type": "markdown",
   "id": "3e0a4db6",
   "metadata": {},
   "source": [
    "def remove_punct(text):\n",
    "    text  = \"\".join([char for char in text if char not in string.punctuation])\n",
    "    text = re.sub('[0-9]+', '', text)\n",
    "    return text\n",
    "\n",
    "df['Tweet'] = df['Tweet'].apply(lambda x: remove_punct(x))\n",
    "df.head(10)"
   ]
  },
  {
   "cell_type": "markdown",
   "id": "87a81373",
   "metadata": {},
   "source": [
    "def remove_pattern(text, pattern_regex):\n",
    "    r = re.findall(pattern_regex, text)\n",
    "    for i in r:\n",
    "        text = re.sub(i, '', text)\n",
    "    \n",
    "    return text"
   ]
  },
  {
   "cell_type": "markdown",
   "id": "3b9bd14b",
   "metadata": {},
   "source": [
    "def strip_links(text):\n",
    "    link_regex    = re.compile('((https?):((//)|(\\\\\\\\))+([\\w\\d:#@%/;$()~_?\\+-=\\\\\\.&](#!)?)*)', re.DOTALL)\n",
    "    links         = re.findall(link_regex, text)\n",
    "    for link in links:\n",
    "        text = text.replace(link[0], ', ')    \n",
    "    return text\n",
    "\n",
    "def strip_all_entities(text):\n",
    "    entity_prefixes = ['@','#']\n",
    "    for separator in  string.punctuation:\n",
    "        if separator not in entity_prefixes :\n",
    "            text = text.replace(separator,' ')\n",
    "    words = []\n",
    "    for word in text.split():\n",
    "        word = word.strip()\n",
    "        if word:\n",
    "            if word[0] not in entity_prefixes:\n",
    "                words.append(word)\n",
    "    return ' '.join(words)"
   ]
  },
  {
   "cell_type": "code",
   "execution_count": null,
   "id": "f21838bc",
   "metadata": {},
   "outputs": [],
   "source": [
    "for i in range(0,len(corpus)):\n",
    "    corpus[i] = re.sub(\"([^0-9A-Za-z \\t])|(\\w+:\\/\\/\\S+)\", \"\",corpus[i])\n",
    "    corpus[i] = re.sub(r\"@\\\\w+\", \"\", corpus[i])\n",
    "    corpus[i] = re.sub(r\"\\W\",\" \",corpus[i])\n",
    "   \n"
   ]
  },
  {
   "cell_type": "code",
   "execution_count": null,
   "id": "1ee520b4",
   "metadata": {},
   "outputs": [],
   "source": [
    "corpus"
   ]
  },
  {
   "cell_type": "code",
   "execution_count": null,
   "id": "f5fe3247",
   "metadata": {},
   "outputs": [],
   "source": [
    "corpus = np.vectorize(remove_pattern)(corpus,\"@[\\w]*: | *RT*\")"
   ]
  },
  {
   "cell_type": "code",
   "execution_count": null,
   "id": "2c6d4b30",
   "metadata": {},
   "outputs": [],
   "source": [
    "corpus"
   ]
  },
  {
   "cell_type": "code",
   "execution_count": null,
   "id": "6e28bf68",
   "metadata": {},
   "outputs": [],
   "source": [
    "def strip_html_tags(text):\n",
    "    soup = BeautifulSoup (text,\"html.parser\")\n",
    "    [s.extract() for s in soup (['iframe','script'])]\n",
    "    stripped_text = soup.get_text()\n",
    "    stripped_text=re.sub(r'[\\r|\\n|\\r\\n)]+', '\\n', stripped_text)\n",
    "    return stripped_text"
   ]
  },
  {
   "cell_type": "code",
   "execution_count": null,
   "id": "9a950737",
   "metadata": {},
   "outputs": [],
   "source": [
    "i = 0\n",
    "while i < len(corpus):\n",
    "    corpus[i] = strip_html_tags(re.sub(r\"[^A-Za-z]+\",\" \", corpus[i].lower()))\n",
    "    i += 1\n",
    "print(*corpus, sep = \"\\n\")  "
   ]
  },
  {
   "cell_type": "code",
   "execution_count": null,
   "id": "8ed67254",
   "metadata": {},
   "outputs": [],
   "source": [
    "wpt=nltk.WordPunctTokenizer()\n",
    "stop_words=nltk.corpus.stopwords.words('english')"
   ]
  },
  {
   "cell_type": "code",
   "execution_count": null,
   "id": "26da0162",
   "metadata": {},
   "outputs": [],
   "source": [
    "def normalize_document (doc):\n",
    "    #lowercase and remove special characters\\whitespace\n",
    "    doc=re.sub(r'[^a-zA-Z\\s]', '', doc, re.I|re.A) #re.I ignore case sensitive, ASCII-only matching\n",
    "    doc=doc.lower()\n",
    "    doc=doc.strip()\n",
    "    #tokenize document\n",
    "    tokens=wpt.tokenize(doc)\n",
    "    #filter stopwords out of document\n",
    "    filtered_tokens=[token for token in tokens if token not in stop_words]\n",
    "    #re-create documenr from filtered tokens\n",
    "    doc=' '.join(filtered_tokens)\n",
    "    return doc"
   ]
  },
  {
   "cell_type": "code",
   "execution_count": null,
   "id": "af9ff30c",
   "metadata": {},
   "outputs": [],
   "source": [
    "normalize_corpus=np.vectorize(normalize_document)"
   ]
  },
  {
   "cell_type": "code",
   "execution_count": null,
   "id": "82a5063b",
   "metadata": {},
   "outputs": [],
   "source": [
    "normalized_corpus=normalize_corpus(corpus)\n",
    "normalized_corpus"
   ]
  },
  {
   "cell_type": "code",
   "execution_count": null,
   "id": "2ffc5c4a",
   "metadata": {},
   "outputs": [],
   "source": []
  },
  {
   "cell_type": "code",
   "execution_count": null,
   "id": "4e8fd6da",
   "metadata": {},
   "outputs": [],
   "source": []
  }
 ],
 "metadata": {
  "kernelspec": {
   "display_name": "Python 3",
   "language": "python",
   "name": "python3"
  },
  "language_info": {
   "codemirror_mode": {
    "name": "ipython",
    "version": 3
   },
   "file_extension": ".py",
   "mimetype": "text/x-python",
   "name": "python",
   "nbconvert_exporter": "python",
   "pygments_lexer": "ipython3",
   "version": "3.8.8"
  }
 },
 "nbformat": 4,
 "nbformat_minor": 5
}
