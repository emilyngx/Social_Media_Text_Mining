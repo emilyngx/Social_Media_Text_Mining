{
 "cells": [
  {
   "cell_type": "code",
   "execution_count": 1,
   "id": "a4410887",
   "metadata": {},
   "outputs": [],
   "source": [
    "import re"
   ]
  },
  {
   "cell_type": "code",
   "execution_count": 2,
   "id": "b7ef610b",
   "metadata": {},
   "outputs": [
    {
     "name": "stdout",
     "output_type": "stream",
     "text": [
      "['This is a # scary wolf! ', 'welcome to a mysterious  jungle', '2020 was the year to remember forever_never', 'Remember the name s - John', 'I      admire      you']\n"
     ]
    }
   ],
   "source": [
    "#Import a list and use Regex to iterate in the list\n",
    "X = [\"This is a # scary wolf! \",\n",
    "    \"welcome to a mysterious  jungle\",\n",
    "    \"2020 was the year to remember forever_never\",\n",
    "    \"Remember the name s - John\",\n",
    "    \"I      admire      you\"]\n",
    "print(X)"
   ]
  },
  {
   "cell_type": "code",
   "execution_count": 4,
   "id": "0b8117a9",
   "metadata": {},
   "outputs": [
    {
     "name": "stdout",
     "output_type": "stream",
     "text": [
      "Y\n",
      "this is scary wolf\n",
      "welcome to mysterious jungle\n",
      "was the year to remember forever\n",
      "remember the name john\n",
      "I admire you\n"
     ]
    }
   ],
   "source": [
    "# Iterate through the list and clean it\n",
    "i = 0\n",
    "while i < len(X):\n",
    "    X[i] = re.sub(r\"\\W\",\" \",X[i]) #remove ASCII symbols\n",
    "    X[i] = re.sub(r\"_.*$\",\"\",X[i]) #remove any zero or more character\n",
    "    X[i] = re.sub(r\"[#!_-]\",\"\",X[i]) #remove special characters\n",
    "    X[i] = re.sub(r\"\\d\",\"\",X[i]) #remove digits\n",
    "    X[i] = re.sub(r\"\\s+\",\" \",X[i]) #replace one or more space with one\n",
    "    X[i] = re.sub(r\"\\s+[a-zA-Z]\\s+\",\" \",X[i]) #remove whitespaces \n",
    "    X[i] = re.sub(r\"^[ \\t]+|[ \\t]+$\",\"\",X[i]) #remove a space at the begininning and the end of a sentence\n",
    "    X[i] = X[i].lower()\n",
    "    X[i] = re.sub(r\"i\\s+\",\"I \", X[i]) #Make i a capital letter\n",
    "    i += 1\n",
    "Y = X\n",
    "print(\"Y\")\n",
    "print(*Y, sep = \"\\n\")"
   ]
  },
  {
   "cell_type": "code",
   "execution_count": null,
   "id": "f8b3a50b",
   "metadata": {},
   "outputs": [],
   "source": []
  }
 ],
 "metadata": {
  "kernelspec": {
   "display_name": "Python 3",
   "language": "python",
   "name": "python3"
  },
  "language_info": {
   "codemirror_mode": {
    "name": "ipython",
    "version": 3
   },
   "file_extension": ".py",
   "mimetype": "text/x-python",
   "name": "python",
   "nbconvert_exporter": "python",
   "pygments_lexer": "ipython3",
   "version": "3.8.8"
  }
 },
 "nbformat": 4,
 "nbformat_minor": 5
}
