{
 "cells": [
  {
   "cell_type": "markdown",
   "metadata": {
    "id": "seT53pa_0QSv"
   },
   "source": [
    "# **Preprocessing**"
   ]
  },
  {
   "cell_type": "code",
   "execution_count": 1,
   "metadata": {
    "colab": {
     "base_uri": "https://localhost:8080/"
    },
    "id": "xDGJ3Ua2pa9v",
    "outputId": "9d2b4acc-8647-4bff-f2bb-f4b7033451d9"
   },
   "outputs": [
    {
     "name": "stdout",
     "output_type": "stream",
     "text": [
      "[nltk_data] Downloading package stopwords to /root/nltk_data...\n",
      "[nltk_data]   Package stopwords is already up-to-date!\n"
     ]
    },
    {
     "data": {
      "text/plain": [
       "True"
      ]
     },
     "execution_count": 1,
     "metadata": {
      "tags": []
     },
     "output_type": "execute_result"
    }
   ],
   "source": [
    "import pandas as pd\n",
    "import numpy as np\n",
    "import re\n",
    "import nltk\n",
    "nltk.download('stopwords')"
   ]
  },
  {
   "cell_type": "code",
   "execution_count": 2,
   "metadata": {
    "id": "anWJZD2nplzD"
   },
   "outputs": [],
   "source": [
    "# Read csv file\n",
    "df = pd.read_excel('/content/Main_tweet_data.xlsx')"
   ]
  },
  {
   "cell_type": "code",
   "execution_count": 3,
   "metadata": {
    "colab": {
     "base_uri": "https://localhost:8080/"
    },
    "id": "yqEwIoetpp5b",
    "outputId": "c084d7dd-9dda-4ebe-a82b-eeeda30ccdb8"
   },
   "outputs": [
    {
     "name": "stdout",
     "output_type": "stream",
     "text": [
      "                                                    Text               ID\n",
      "0      Call up that time machine and warn your father...         lSheeksl\n",
      "1      @WArthurJ1 @KristanHawkins Who is forcing you ...       united6059\n",
      "2      im inspired by kleo's tweets from last night b...      jewishdelly\n",
      "3      WHAT hAPPENS DURING THE ABORTION PROCESS?\\n2nd...     Girl33French\n",
      "4      @fight4women @PickleMrs @BobDolan111 @OzGoofyP...     JerryRBarton\n",
      "...                                                  ...              ...\n",
      "11339  SB8/15 Holmes listens carefully to Helen's sto...  holmestwtholmes\n",
      "11340  @iHATESNKRS @You_AIO Miami night 8s going for ...     Tampasneaker\n",
      "11341  This is very interesting. \"Accelerates the sun...     k_mosbrucker\n",
      "11342  The Triple-B, Your Lordship. (40 Photos) ・・・・ ...  helen_sublett15\n",
      "11343  @AllekVeloso @gatocomcancer1 @Jack_SB8 @Pessoa...   corote_de_odio\n",
      "\n",
      "[11344 rows x 2 columns]\n"
     ]
    }
   ],
   "source": [
    "print(df)"
   ]
  },
  {
   "cell_type": "code",
   "execution_count": 4,
   "metadata": {
    "colab": {
     "base_uri": "https://localhost:8080/"
    },
    "id": "psXB-AP5prWh",
    "outputId": "c717b8f5-e94a-4b27-a047-ebc6f6fad207"
   },
   "outputs": [
    {
     "data": {
      "text/plain": [
       "array(['Call up that time machine and warn your father to take your mom to the abortion center when she is pregnant with you https://t.co/gxGoleVKOY',\n",
       "       '@WArthurJ1 @KristanHawkins Who is forcing you to have an abortion?',\n",
       "       'im inspired by kleo\\'s tweets from last night but the \"keep abortion rare\" messaging just further portrays abortion as some bad thing',\n",
       "       ...,\n",
       "       'This is very interesting. \"Accelerates the sunset date for the tax credit for the conversion of alternative fuel vehicles.\" https://t.co/ylNrpMX5E9',\n",
       "       'The Triple-B, Your Lordship. (40 Photos) ・・・・ https://t.co/tRaJllwwbu',\n",
       "       '@AllekVeloso @gatocomcancer1 @Jack_SB8 @Pessoas1QI real https://t.co/vPOCQv8Gpc'],\n",
       "      dtype=object)"
      ]
     },
     "execution_count": 4,
     "metadata": {
      "tags": []
     },
     "output_type": "execute_result"
    }
   ],
   "source": [
    "corpus = np.array(df['Text']) #convert from Dataframe to array\n",
    "corpus = corpus.ravel() #convert from multi-dimensional array to 1 dimension\n",
    "corpus"
   ]
  },
  {
   "cell_type": "code",
   "execution_count": 5,
   "metadata": {
    "id": "hyT7PVmAps6c"
   },
   "outputs": [],
   "source": [
    "# Remove @tags\n",
    "for i in range(0,len(corpus)):\n",
    "    corpus[i] = re.sub(r'@[A-Za-z0-9]+','',str(corpus[i]))"
   ]
  },
  {
   "cell_type": "code",
   "execution_count": 6,
   "metadata": {
    "colab": {
     "base_uri": "https://localhost:8080/"
    },
    "id": "r4FI4d3mpvQ4",
    "outputId": "6dc973ef-e917-4487-9521-a4101e037d29"
   },
   "outputs": [
    {
     "data": {
      "text/plain": [
       "array(['Call up that time machine and warn your father to take your mom to the abortion center when she is pregnant with you https://t.co/gxGoleVKOY',\n",
       "       '  Who is forcing you to have an abortion?',\n",
       "       'im inspired by kleo\\'s tweets from last night but the \"keep abortion rare\" messaging just further portrays abortion as some bad thing',\n",
       "       'WHAT hAPPENS DURING THE ABORTION PROCESS?\\n2nd Trimester Surgical Abortion: Dilation and Evacuation (D &amp; E) https://t.co/v6s5KkPFG2 via ',\n",
       "       '        _chels _house          _RaySmith    Wrong Abortion kills a baby that will never be born ever . Lying want ease your conscience.',\n",
       "       'Why are bullshit anti abortion billboards everywhere?? They literally aren・E\\x80・Et truthful and they are meant to fear monger?? \\n\\nIn my dream world we would all be lizards. Everybody would move in silence and with purpose. Honestly ideal',\n",
       "       \"Didn't you vote on genocide denial?\\nThey have forced abortion, that isn't a feminist cause to you?\\nThen I don't like these women and their mules\\nI'm always suspicious when they want to single out the women and show them to you\\nThese women are worthless https://t.co/90jqW0IKM1\",\n",
       "       '_lgbtq  Or do you just want to punish women for having sex?  I suspect it is the latter.  When abortion was illegal, it still occurred.',\n",
       "       'They should consult with their doctors.\\n\\nAbortion is very rarely the only ・E\\x80・Echoice・E\\x80・E, it・E\\x80・Es just the *only* choice that you advocate for.\\n\\n・E・E・E・E・E・Eｼ https://t.co/H7MLr0iiYQ',\n",
       "       '_lgbtq  Since when has making abortion illegal stopped it?  Do you support easy access to free/low cost contraception?  Medically accurate sex education?'],\n",
       "      dtype=object)"
      ]
     },
     "execution_count": 6,
     "metadata": {
      "tags": []
     },
     "output_type": "execute_result"
    }
   ],
   "source": [
    "corpus[:10]"
   ]
  },
  {
   "cell_type": "code",
   "execution_count": 7,
   "metadata": {
    "id": "Cr9wvuHEpxGI"
   },
   "outputs": [],
   "source": [
    "# Remove urls\n",
    "def remove_url(txt):\n",
    "    return \" \".join(re.sub(\"([^0-9A-Za-z \\t])|(\\w+:\\/\\/\\S+)\", \"\", txt).split())"
   ]
  },
  {
   "cell_type": "code",
   "execution_count": 8,
   "metadata": {
    "colab": {
     "base_uri": "https://localhost:8080/"
    },
    "id": "r0GX87oYpyp-",
    "outputId": "85d7f6e7-a4ba-478b-bf13-19ee965dacd7"
   },
   "outputs": [
    {
     "data": {
      "text/plain": [
       "array(['Call up that time machine and warn your father to take your mom to the abortion center when she is pregnant with you',\n",
       "       'Who is forcing you to have an abortion',\n",
       "       'im inspired by kleos tweets from last night but the keep abortion rare messaging just further portrays abortion as some bad thing',\n",
       "       'WHAT hAPPENS DURING THE ABORTION PROCESS2nd Trimester Surgical Abortion Dilation and Evacuation D amp E via',\n",
       "       'chels house RaySmith Wrong Abortion kills a baby that will never be born ever Lying want ease your conscience',\n",
       "       'Why are bullshit anti abortion billboards everywhere They literally arenEEt truthful and they are meant to fear monger In my dream world we would all be lizards Everybody would move in silence and with purpose Honestly ideal',\n",
       "       'Didnt you vote on genocide denialThey have forced abortion that isnt a feminist cause to youThen I dont like these women and their mulesIm always suspicious when they want to single out the women and show them to youThese women are worthless',\n",
       "       'lgbtq Or do you just want to punish women for having sex I suspect it is the latter When abortion was illegal it still occurred',\n",
       "       'They should consult with their doctorsAbortion is very rarely the only EEchoiceEE itEEs just the only choice that you advocate forEEEEEE',\n",
       "       'lgbtq Since when has making abortion illegal stopped it Do you support easy access to freelow cost contraception Medically accurate sex education'],\n",
       "      dtype='<U339')"
      ]
     },
     "execution_count": 8,
     "metadata": {
      "tags": []
     },
     "output_type": "execute_result"
    }
   ],
   "source": [
    "corpus = [remove_url(Text) for Text in corpus]\n",
    "corpus = np.array(corpus)\n",
    "corpus = corpus.ravel()\n",
    "corpus[:10]"
   ]
  },
  {
   "cell_type": "code",
   "execution_count": 9,
   "metadata": {
    "id": "LEocCMRk6p_4"
   },
   "outputs": [],
   "source": [
    "# Normalize corpus\n",
    "wpt = nltk.WordPunctTokenizer()\n",
    "stop_words = nltk.corpus.stopwords.words('english')"
   ]
  },
  {
   "cell_type": "code",
   "execution_count": 10,
   "metadata": {
    "id": "3tuB4btK75ae"
   },
   "outputs": [],
   "source": [
    "def normalize_document (doc):\n",
    "    # lowercase and remove special characters\\whitespace\n",
    "    doc = re.sub(r'[^a-zA-Z\\s]', '', doc, re.I|re.A) # re.I ignore case sensitive, ASCII-only matching\n",
    "    doc = doc.lower()\n",
    "    doc = doc.strip()\n",
    "    # tokenize document\n",
    "    tokens = wpt.tokenize(doc)\n",
    "    # filter stopwords out of document\n",
    "    filtered_tokens = [token for token in tokens if token not in stop_words]\n",
    "    # re-create documenr from filtered tokens\n",
    "    doc = ' '.join(filtered_tokens)\n",
    "    return doc"
   ]
  },
  {
   "cell_type": "code",
   "execution_count": 11,
   "metadata": {
    "id": "g9jGHAU_7-NF"
   },
   "outputs": [],
   "source": [
    "normalize_corpus = np.vectorize(normalize_document)"
   ]
  },
  {
   "cell_type": "code",
   "execution_count": 12,
   "metadata": {
    "colab": {
     "base_uri": "https://localhost:8080/"
    },
    "id": "iChG1tIP8zfO",
    "outputId": "7c2664ef-e364-4622-f875-97d05cecd354"
   },
   "outputs": [
    {
     "data": {
      "text/plain": [
       "array(['call time machine warn father take mom abortion center pregnant',\n",
       "       'forcing abortion',\n",
       "       'im inspired kleos tweets last night keep abortion rare messaging portrays abortion bad thing',\n",
       "       'happens abortion processnd trimester surgical abortion dilation evacuation amp e via',\n",
       "       'chels house raysmith wrong abortion kills baby never born ever lying want ease conscience',\n",
       "       'bullshit anti abortion billboards everywhere literally areneet truthful meant fear monger dream world would lizards everybody would move silence purpose honestly ideal',\n",
       "       'didnt vote genocide denialthey forced abortion isnt feminist cause youthen dont like women mulesim always suspicious want single women show youthese women worthless',\n",
       "       'lgbtq want punish women sex suspect latter abortion illegal still occurred',\n",
       "       'consult doctorsabortion rarely eechoiceee itees choice advocate foreeeeee',\n",
       "       'lgbtq since making abortion illegal stopped support easy access freelow cost contraception medically accurate sex education'],\n",
       "      dtype='<U266')"
      ]
     },
     "execution_count": 12,
     "metadata": {
      "tags": []
     },
     "output_type": "execute_result"
    }
   ],
   "source": [
    "normalized_corpus = normalize_corpus(corpus)\n",
    "normalized_corpus[:10]"
   ]
  },
  {
   "cell_type": "code",
   "execution_count": 13,
   "metadata": {
    "colab": {
     "base_uri": "https://localhost:8080/",
     "height": 390
    },
    "id": "7dwWwnPi9FFJ",
    "outputId": "d10dfb9b-fd09-42f8-c97b-d0a4b21f46f2"
   },
   "outputs": [
    {
     "data": {
      "text/html": [
       "<div>\n",
       "<style scoped>\n",
       "    .dataframe tbody tr th:only-of-type {\n",
       "        vertical-align: middle;\n",
       "    }\n",
       "\n",
       "    .dataframe tbody tr th {\n",
       "        vertical-align: top;\n",
       "    }\n",
       "\n",
       "    .dataframe thead th {\n",
       "        text-align: right;\n",
       "    }\n",
       "</style>\n",
       "<table border=\"1\" class=\"dataframe\">\n",
       "  <thead>\n",
       "    <tr style=\"text-align: right;\">\n",
       "      <th></th>\n",
       "      <th>Text</th>\n",
       "      <th>ID</th>\n",
       "    </tr>\n",
       "  </thead>\n",
       "  <tbody>\n",
       "    <tr>\n",
       "      <th>0</th>\n",
       "      <td>call time machine warn father take mom abortio...</td>\n",
       "      <td>lSheeksl</td>\n",
       "    </tr>\n",
       "    <tr>\n",
       "      <th>1</th>\n",
       "      <td>forcing abortion</td>\n",
       "      <td>united6059</td>\n",
       "    </tr>\n",
       "    <tr>\n",
       "      <th>2</th>\n",
       "      <td>im inspired kleos tweets last night keep abort...</td>\n",
       "      <td>jewishdelly</td>\n",
       "    </tr>\n",
       "    <tr>\n",
       "      <th>3</th>\n",
       "      <td>happens abortion processnd trimester surgical ...</td>\n",
       "      <td>Girl33French</td>\n",
       "    </tr>\n",
       "    <tr>\n",
       "      <th>4</th>\n",
       "      <td>chels house raysmith wrong abortion kills baby...</td>\n",
       "      <td>JerryRBarton</td>\n",
       "    </tr>\n",
       "    <tr>\n",
       "      <th>5</th>\n",
       "      <td>bullshit anti abortion billboards everywhere l...</td>\n",
       "      <td>kirs9407</td>\n",
       "    </tr>\n",
       "    <tr>\n",
       "      <th>6</th>\n",
       "      <td>didnt vote genocide denialthey forced abortion...</td>\n",
       "      <td>Angel20140238</td>\n",
       "    </tr>\n",
       "    <tr>\n",
       "      <th>7</th>\n",
       "      <td>lgbtq want punish women sex suspect latter abo...</td>\n",
       "      <td>united6059</td>\n",
       "    </tr>\n",
       "    <tr>\n",
       "      <th>8</th>\n",
       "      <td>consult doctorsabortion rarely eechoiceee itee...</td>\n",
       "      <td>LauraWhitt32</td>\n",
       "    </tr>\n",
       "    <tr>\n",
       "      <th>9</th>\n",
       "      <td>lgbtq since making abortion illegal stopped su...</td>\n",
       "      <td>united6059</td>\n",
       "    </tr>\n",
       "    <tr>\n",
       "      <th>10</th>\n",
       "      <td>really dont care abortion rare want accessible</td>\n",
       "      <td>jewishdelly</td>\n",
       "    </tr>\n",
       "  </tbody>\n",
       "</table>\n",
       "</div>"
      ],
      "text/plain": [
       "                                                 Text             ID\n",
       "0   call time machine warn father take mom abortio...       lSheeksl\n",
       "1                                    forcing abortion     united6059\n",
       "2   im inspired kleos tweets last night keep abort...    jewishdelly\n",
       "3   happens abortion processnd trimester surgical ...   Girl33French\n",
       "4   chels house raysmith wrong abortion kills baby...   JerryRBarton\n",
       "5   bullshit anti abortion billboards everywhere l...       kirs9407\n",
       "6   didnt vote genocide denialthey forced abortion...  Angel20140238\n",
       "7   lgbtq want punish women sex suspect latter abo...     united6059\n",
       "8   consult doctorsabortion rarely eechoiceee itee...   LauraWhitt32\n",
       "9   lgbtq since making abortion illegal stopped su...     united6059\n",
       "10     really dont care abortion rare want accessible    jewishdelly"
      ]
     },
     "execution_count": 13,
     "metadata": {
      "tags": []
     },
     "output_type": "execute_result"
    }
   ],
   "source": [
    "normalized_df = pd.DataFrame({'Text': normalized_corpus, 'ID': df['ID']})\n",
    "normalized_df.head(11)"
   ]
  },
  {
   "cell_type": "markdown",
   "metadata": {
    "id": "1EMdezI2vKzU"
   },
   "source": [
    "# **Sentiment Analysis using VADER**\n",
    "\n",
    "---\n",
    "\n",
    "\n",
    "In most NLP tasks we need to apply data cleansing first. This should be avoided when we run sentiment analysis. Notice that VADER:\n",
    "\n",
    "- It is case sensitive.\n",
    "- The sentence This is great has a different score than the sentence This is GREAT.\n",
    "- Punctuation matters.\n",
    "- The exclamation marks for example have a positive score\n",
    "- The emojis have also a score and actually very strong sentiments.\n",
    "\n",
    "Try the <3, :) , :p and :( Words after @ and # have a neutral score."
   ]
  },
  {
   "cell_type": "code",
   "execution_count": 14,
   "metadata": {
    "colab": {
     "base_uri": "https://localhost:8080/"
    },
    "id": "ktjhCP9ev7Xd",
    "outputId": "fc3ce595-4e06-405c-eb0e-050aeeacabb7"
   },
   "outputs": [
    {
     "name": "stdout",
     "output_type": "stream",
     "text": [
      "[nltk_data] Downloading package vader_lexicon to /root/nltk_data...\n",
      "[nltk_data]   Package vader_lexicon is already up-to-date!\n"
     ]
    },
    {
     "name": "stderr",
     "output_type": "stream",
     "text": [
      "/usr/local/lib/python3.7/dist-packages/nltk/twitter/__init__.py:20: UserWarning: The twython library has not been installed. Some functionality from the twitter package will not be available.\n",
      "  warnings.warn(\"The twython library has not been installed. \"\n"
     ]
    }
   ],
   "source": [
    "import nltk\n",
    "from nltk.sentiment.vader import SentimentIntensityAnalyzer\n",
    "nltk.download('vader_lexicon')\n",
    "\n",
    "analyzer = SentimentIntensityAnalyzer()"
   ]
  },
  {
   "cell_type": "code",
   "execution_count": 15,
   "metadata": {
    "colab": {
     "base_uri": "https://localhost:8080/",
     "height": 419
    },
    "id": "BiY1piJjKlU3",
    "outputId": "3b530998-541d-4c54-b6b2-4dfd0938bcce"
   },
   "outputs": [
    {
     "data": {
      "text/html": [
       "<div>\n",
       "<style scoped>\n",
       "    .dataframe tbody tr th:only-of-type {\n",
       "        vertical-align: middle;\n",
       "    }\n",
       "\n",
       "    .dataframe tbody tr th {\n",
       "        vertical-align: top;\n",
       "    }\n",
       "\n",
       "    .dataframe thead th {\n",
       "        text-align: right;\n",
       "    }\n",
       "</style>\n",
       "<table border=\"1\" class=\"dataframe\">\n",
       "  <thead>\n",
       "    <tr style=\"text-align: right;\">\n",
       "      <th></th>\n",
       "      <th>ID</th>\n",
       "      <th>Text</th>\n",
       "      <th>neg</th>\n",
       "      <th>neu</th>\n",
       "      <th>pos</th>\n",
       "      <th>compound</th>\n",
       "    </tr>\n",
       "  </thead>\n",
       "  <tbody>\n",
       "    <tr>\n",
       "      <th>0</th>\n",
       "      <td>lSheeksl</td>\n",
       "      <td>Call up that time machine and warn your father...</td>\n",
       "      <td>0.060</td>\n",
       "      <td>0.940</td>\n",
       "      <td>0.000</td>\n",
       "      <td>-0.1027</td>\n",
       "    </tr>\n",
       "    <tr>\n",
       "      <th>1</th>\n",
       "      <td>united6059</td>\n",
       "      <td>Who is forcing you to have an abortion</td>\n",
       "      <td>0.000</td>\n",
       "      <td>1.000</td>\n",
       "      <td>0.000</td>\n",
       "      <td>0.0000</td>\n",
       "    </tr>\n",
       "    <tr>\n",
       "      <th>2</th>\n",
       "      <td>jewishdelly</td>\n",
       "      <td>im inspired by kleos tweets from last night bu...</td>\n",
       "      <td>0.177</td>\n",
       "      <td>0.745</td>\n",
       "      <td>0.078</td>\n",
       "      <td>-0.5647</td>\n",
       "    </tr>\n",
       "    <tr>\n",
       "      <th>3</th>\n",
       "      <td>Girl33French</td>\n",
       "      <td>WHAT hAPPENS DURING THE ABORTION PROCESS2nd Tr...</td>\n",
       "      <td>0.000</td>\n",
       "      <td>1.000</td>\n",
       "      <td>0.000</td>\n",
       "      <td>0.0000</td>\n",
       "    </tr>\n",
       "    <tr>\n",
       "      <th>4</th>\n",
       "      <td>JerryRBarton</td>\n",
       "      <td>chels house RaySmith Wrong Abortion kills a ba...</td>\n",
       "      <td>0.373</td>\n",
       "      <td>0.485</td>\n",
       "      <td>0.142</td>\n",
       "      <td>-0.8020</td>\n",
       "    </tr>\n",
       "    <tr>\n",
       "      <th>...</th>\n",
       "      <td>...</td>\n",
       "      <td>...</td>\n",
       "      <td>...</td>\n",
       "      <td>...</td>\n",
       "      <td>...</td>\n",
       "      <td>...</td>\n",
       "    </tr>\n",
       "    <tr>\n",
       "      <th>11339</th>\n",
       "      <td>holmestwtholmes</td>\n",
       "      <td>SB815 Holmes listens carefully to Helens story...</td>\n",
       "      <td>0.086</td>\n",
       "      <td>0.839</td>\n",
       "      <td>0.075</td>\n",
       "      <td>-0.1280</td>\n",
       "    </tr>\n",
       "    <tr>\n",
       "      <th>11340</th>\n",
       "      <td>Tampasneaker</td>\n",
       "      <td>AIO Miami night 8s going for retailthe world w...</td>\n",
       "      <td>0.170</td>\n",
       "      <td>0.830</td>\n",
       "      <td>0.000</td>\n",
       "      <td>-0.6486</td>\n",
       "    </tr>\n",
       "    <tr>\n",
       "      <th>11341</th>\n",
       "      <td>k_mosbrucker</td>\n",
       "      <td>This is very interesting Accelerates the sunse...</td>\n",
       "      <td>0.000</td>\n",
       "      <td>0.752</td>\n",
       "      <td>0.248</td>\n",
       "      <td>0.6801</td>\n",
       "    </tr>\n",
       "    <tr>\n",
       "      <th>11342</th>\n",
       "      <td>helen_sublett15</td>\n",
       "      <td>The TripleB Your Lordship 40 Photos</td>\n",
       "      <td>0.000</td>\n",
       "      <td>1.000</td>\n",
       "      <td>0.000</td>\n",
       "      <td>0.0000</td>\n",
       "    </tr>\n",
       "    <tr>\n",
       "      <th>11343</th>\n",
       "      <td>corote_de_odio</td>\n",
       "      <td>SB8 real</td>\n",
       "      <td>0.000</td>\n",
       "      <td>1.000</td>\n",
       "      <td>0.000</td>\n",
       "      <td>0.0000</td>\n",
       "    </tr>\n",
       "  </tbody>\n",
       "</table>\n",
       "<p>11344 rows × 6 columns</p>\n",
       "</div>"
      ],
      "text/plain": [
       "                    ID  ... compound\n",
       "0             lSheeksl  ...  -0.1027\n",
       "1           united6059  ...   0.0000\n",
       "2          jewishdelly  ...  -0.5647\n",
       "3         Girl33French  ...   0.0000\n",
       "4         JerryRBarton  ...  -0.8020\n",
       "...                ...  ...      ...\n",
       "11339  holmestwtholmes  ...  -0.1280\n",
       "11340     Tampasneaker  ...  -0.6486\n",
       "11341     k_mosbrucker  ...   0.6801\n",
       "11342  helen_sublett15  ...   0.0000\n",
       "11343   corote_de_odio  ...   0.0000\n",
       "\n",
       "[11344 rows x 6 columns]"
      ]
     },
     "execution_count": 15,
     "metadata": {
      "tags": []
     },
     "output_type": "execute_result"
    }
   ],
   "source": [
    "#Sentiment Analysis on corpus (NOT normalized_df)\n",
    "corpus = pd.DataFrame({'ID': df['ID'], 'Text': corpus})\n",
    "corpus['neg'] = corpus['Text'].apply(lambda x:analyzer.polarity_scores(x)['neg'])\n",
    "corpus['neu'] = corpus['Text'].apply(lambda x:analyzer.polarity_scores(x)['neu'])\n",
    "corpus['pos'] = corpus['Text'].apply(lambda x:analyzer.polarity_scores(x)['pos'])\n",
    "corpus['compound'] = corpus['Text'].apply(lambda x:analyzer.polarity_scores(x)['compound'])\n",
    "corpus"
   ]
  },
  {
   "cell_type": "code",
   "execution_count": 16,
   "metadata": {
    "colab": {
     "base_uri": "https://localhost:8080/",
     "height": 419
    },
    "id": "qy-YjMy2yRc1",
    "outputId": "35ebe297-5857-473e-9faa-a21378cb2c07"
   },
   "outputs": [
    {
     "data": {
      "text/html": [
       "<div>\n",
       "<style scoped>\n",
       "    .dataframe tbody tr th:only-of-type {\n",
       "        vertical-align: middle;\n",
       "    }\n",
       "\n",
       "    .dataframe tbody tr th {\n",
       "        vertical-align: top;\n",
       "    }\n",
       "\n",
       "    .dataframe thead th {\n",
       "        text-align: right;\n",
       "    }\n",
       "</style>\n",
       "<table border=\"1\" class=\"dataframe\">\n",
       "  <thead>\n",
       "    <tr style=\"text-align: right;\">\n",
       "      <th></th>\n",
       "      <th>ID</th>\n",
       "      <th>Text</th>\n",
       "      <th>vader_labels</th>\n",
       "    </tr>\n",
       "  </thead>\n",
       "  <tbody>\n",
       "    <tr>\n",
       "      <th>0</th>\n",
       "      <td>lSheeksl</td>\n",
       "      <td>Call up that time machine and warn your father...</td>\n",
       "      <td>negative</td>\n",
       "    </tr>\n",
       "    <tr>\n",
       "      <th>1</th>\n",
       "      <td>united6059</td>\n",
       "      <td>Who is forcing you to have an abortion</td>\n",
       "      <td>neutral</td>\n",
       "    </tr>\n",
       "    <tr>\n",
       "      <th>2</th>\n",
       "      <td>jewishdelly</td>\n",
       "      <td>im inspired by kleos tweets from last night bu...</td>\n",
       "      <td>negative</td>\n",
       "    </tr>\n",
       "    <tr>\n",
       "      <th>3</th>\n",
       "      <td>Girl33French</td>\n",
       "      <td>WHAT hAPPENS DURING THE ABORTION PROCESS2nd Tr...</td>\n",
       "      <td>neutral</td>\n",
       "    </tr>\n",
       "    <tr>\n",
       "      <th>4</th>\n",
       "      <td>JerryRBarton</td>\n",
       "      <td>chels house RaySmith Wrong Abortion kills a ba...</td>\n",
       "      <td>negative</td>\n",
       "    </tr>\n",
       "    <tr>\n",
       "      <th>...</th>\n",
       "      <td>...</td>\n",
       "      <td>...</td>\n",
       "      <td>...</td>\n",
       "    </tr>\n",
       "    <tr>\n",
       "      <th>11339</th>\n",
       "      <td>holmestwtholmes</td>\n",
       "      <td>SB815 Holmes listens carefully to Helens story...</td>\n",
       "      <td>negative</td>\n",
       "    </tr>\n",
       "    <tr>\n",
       "      <th>11340</th>\n",
       "      <td>Tampasneaker</td>\n",
       "      <td>AIO Miami night 8s going for retailthe world w...</td>\n",
       "      <td>negative</td>\n",
       "    </tr>\n",
       "    <tr>\n",
       "      <th>11341</th>\n",
       "      <td>k_mosbrucker</td>\n",
       "      <td>This is very interesting Accelerates the sunse...</td>\n",
       "      <td>positive</td>\n",
       "    </tr>\n",
       "    <tr>\n",
       "      <th>11342</th>\n",
       "      <td>helen_sublett15</td>\n",
       "      <td>The TripleB Your Lordship 40 Photos</td>\n",
       "      <td>neutral</td>\n",
       "    </tr>\n",
       "    <tr>\n",
       "      <th>11343</th>\n",
       "      <td>corote_de_odio</td>\n",
       "      <td>SB8 real</td>\n",
       "      <td>neutral</td>\n",
       "    </tr>\n",
       "  </tbody>\n",
       "</table>\n",
       "<p>11344 rows × 3 columns</p>\n",
       "</div>"
      ],
      "text/plain": [
       "                    ID  ... vader_labels\n",
       "0             lSheeksl  ...     negative\n",
       "1           united6059  ...      neutral\n",
       "2          jewishdelly  ...     negative\n",
       "3         Girl33French  ...      neutral\n",
       "4         JerryRBarton  ...     negative\n",
       "...                ...  ...          ...\n",
       "11339  holmestwtholmes  ...     negative\n",
       "11340     Tampasneaker  ...     negative\n",
       "11341     k_mosbrucker  ...     positive\n",
       "11342  helen_sublett15  ...      neutral\n",
       "11343   corote_de_odio  ...      neutral\n",
       "\n",
       "[11344 rows x 3 columns]"
      ]
     },
     "execution_count": 16,
     "metadata": {
      "tags": []
     },
     "output_type": "execute_result"
    }
   ],
   "source": [
    "#Get VADER labels based on compound scores\n",
    "conditions = [\n",
    "    (corpus['compound'] >= 0.05),\n",
    "    (corpus['compound'] < 0.05) & (corpus['compound'] > -0.05),\n",
    "    (corpus['compound'] <= -0.05)\n",
    "     ]\n",
    "\n",
    "labels = ['positive','neutral','negative']\n",
    "\n",
    "corpus['vader_labels'] = np.select(conditions,labels)\n",
    "vader = corpus[['ID','Text','vader_labels']]\n",
    "vader"
   ]
  },
  {
   "cell_type": "code",
   "execution_count": 17,
   "metadata": {
    "colab": {
     "base_uri": "https://localhost:8080/"
    },
    "id": "eBmCQ-N3yeZP",
    "outputId": "a380d16c-8f4a-48c9-f1b0-3989e04c698e"
   },
   "outputs": [
    {
     "name": "stdout",
     "output_type": "stream",
     "text": [
      "VADER results:\n",
      "Total Positive Tweets: 4537\n",
      "Total Neutral Tweets: 2380\n",
      "Total Negative Tweets: 4427\n"
     ]
    }
   ],
   "source": [
    "total_positive = 0\n",
    "total_neutral = 0\n",
    "total_negative = 0\n",
    "\n",
    "for i in vader['vader_labels']:\n",
    "  if i == 'positive':\n",
    "    total_positive += 1\n",
    "  elif i == 'neutral':\n",
    "    total_neutral += 1\n",
    "  else:\n",
    "    total_negative += 1\n",
    "\n",
    "print('VADER results:')\n",
    "print('Total Positive Tweets:', total_positive)\n",
    "print('Total Neutral Tweets:', total_neutral)\n",
    "print('Total Negative Tweets:', total_negative)"
   ]
  },
  {
   "cell_type": "code",
   "execution_count": 18,
   "metadata": {
    "colab": {
     "base_uri": "https://localhost:8080/",
     "height": 298
    },
    "id": "JlJ-7DbK6wuP",
    "outputId": "3109620d-db84-424e-8d71-316e1740e4f3"
   },
   "outputs": [
    {
     "data": {
      "text/plain": [
       "Text(0.5, 1.0, 'Number of Positive, Neutral, and Negative Tweets')"
      ]
     },
     "execution_count": 18,
     "metadata": {
      "tags": []
     },
     "output_type": "execute_result"
    },
    {
     "data": {
      "image/png": "[encoded data removed]",
      "text/plain": [
       "<Figure size 432x288 with 1 Axes>"
      ]
     },
     "metadata": {
      "needs_background": "light",
      "tags": []
     },
     "output_type": "display_data"
    }
   ],
   "source": [
    "import matplotlib.pyplot as plt\n",
    "import numpy as np\n",
    "\n",
    "objects = ['Positive', 'Neutral', 'Negative']\n",
    "y_pos = np.arange (len(objects))\n",
    "\n",
    "plt.bar(y_pos,[total_positive, total_neutral,total_negative],alpha=0.5);\n",
    "plt.xticks(y_pos,objects)\n",
    "plt.ylabel(\"Number of Tweets\")\n",
    "plt.title(\"Number of Positive, Neutral, and Negative Tweets\")"
   ]
  },
  {
   "cell_type": "markdown",
   "metadata": {
    "id": "WETMuy1Mn3n9"
   },
   "source": [
    "# Polarity"
   ]
  },
  {
   "cell_type": "code",
   "execution_count": 19,
   "metadata": {
    "colab": {
     "base_uri": "https://localhost:8080/"
    },
    "id": "nr50mTS2-mN9",
    "outputId": "82f368ed-794f-4794-8c99-7f147830f50b"
   },
   "outputs": [
    {
     "data": {
      "text/plain": [
       "11344"
      ]
     },
     "execution_count": 19,
     "metadata": {
      "tags": []
     },
     "output_type": "execute_result"
    }
   ],
   "source": [
    "import textblob\n",
    "from textblob import TextBlob\n",
    "\n",
    "list_tweets = corpus.Text\n",
    "len(list_tweets)"
   ]
  },
  {
   "cell_type": "code",
   "execution_count": 20,
   "metadata": {
    "colab": {
     "base_uri": "https://localhost:8080/"
    },
    "id": "YxmSk2tMAEfM",
    "outputId": "84d9fc83-5cff-4364-8635-8f1276657111"
   },
   "outputs": [
    {
     "name": "stdout",
     "output_type": "stream",
     "text": [
      "overall polarity 0.2\n",
      "total sentences sentiment positive: 5452 , %positive: 48.06 , negative: 5892 , %negative: 51.94\n"
     ]
    }
   ],
   "source": [
    "polarity = 0\n",
    "polaritylist=[]\n",
    "total_pos=0\n",
    "total_neg=0\n",
    "\n",
    "for tweet in list_tweets:\n",
    "  sent = TextBlob(tweet).sentiment.polarity\n",
    "  polarity =+ sent\n",
    "  polaritylist.append(sent)\n",
    "  if sent > 0:\n",
    "    total_pos +=1\n",
    "  else:\n",
    "    total_neg+=1\n",
    "    \n",
    "print (\"overall polarity\", polarity)\n",
    "print (\"total sentences sentiment\", \"positive:\", total_pos, \", %positive:\",round(total_pos*100/(total_neg+total_pos),2),\", negative:\", total_neg, \", %negative:\",round(total_neg*100/(total_neg+total_pos),2))"
   ]
  },
  {
   "cell_type": "code",
   "execution_count": 21,
   "metadata": {
    "colab": {
     "base_uri": "https://localhost:8080/",
     "height": 337
    },
    "id": "Bg0fm50ezWiS",
    "outputId": "cd1af665-1602-43ad-b9ac-67061246297c"
   },
   "outputs": [
    {
     "data": {
      "text/plain": [
       "(array([  53.,   93.,  384.,  674., 1630., 5719., 1889.,  696.,  115.,\n",
       "          91.]),\n",
       " array([-1. , -0.8, -0.6, -0.4, -0.2,  0. ,  0.2,  0.4,  0.6,  0.8,  1. ]),\n",
       " <a list of 10 Patch objects>)"
      ]
     },
     "execution_count": 21,
     "metadata": {
      "tags": []
     },
     "output_type": "execute_result"
    },
    {
     "data": {
      "image/png": "[encoded data removed]",
      "text/plain": [
       "<Figure size 432x288 with 1 Axes>"
      ]
     },
     "metadata": {
      "needs_background": "light",
      "tags": []
     },
     "output_type": "display_data"
    }
   ],
   "source": [
    "plt.hist(polaritylist)"
   ]
  },
  {
   "cell_type": "code",
   "execution_count": 22,
   "metadata": {
    "id": "4jEzSJK_AIY9"
   },
   "outputs": [],
   "source": [
    "import statistics"
   ]
  },
  {
   "cell_type": "code",
   "execution_count": 23,
   "metadata": {
    "id": "Bo5U0EpCB4bl"
   },
   "outputs": [],
   "source": [
    "a = pd.DataFrame(polaritylist)"
   ]
  },
  {
   "cell_type": "code",
   "execution_count": 24,
   "metadata": {
    "colab": {
     "base_uri": "https://localhost:8080/",
     "height": 297
    },
    "id": "p3X3MoTZpw5g",
    "outputId": "13603672-dfdf-4246-b4e6-fd8c83abe665"
   },
   "outputs": [
    {
     "data": {
      "text/html": [
       "<div>\n",
       "<style scoped>\n",
       "    .dataframe tbody tr th:only-of-type {\n",
       "        vertical-align: middle;\n",
       "    }\n",
       "\n",
       "    .dataframe tbody tr th {\n",
       "        vertical-align: top;\n",
       "    }\n",
       "\n",
       "    .dataframe thead th {\n",
       "        text-align: right;\n",
       "    }\n",
       "</style>\n",
       "<table border=\"1\" class=\"dataframe\">\n",
       "  <thead>\n",
       "    <tr style=\"text-align: right;\">\n",
       "      <th></th>\n",
       "      <th>0</th>\n",
       "    </tr>\n",
       "  </thead>\n",
       "  <tbody>\n",
       "    <tr>\n",
       "      <th>count</th>\n",
       "      <td>11344.000000</td>\n",
       "    </tr>\n",
       "    <tr>\n",
       "      <th>mean</th>\n",
       "      <td>0.065035</td>\n",
       "    </tr>\n",
       "    <tr>\n",
       "      <th>std</th>\n",
       "      <td>0.253463</td>\n",
       "    </tr>\n",
       "    <tr>\n",
       "      <th>min</th>\n",
       "      <td>-1.000000</td>\n",
       "    </tr>\n",
       "    <tr>\n",
       "      <th>25%</th>\n",
       "      <td>0.000000</td>\n",
       "    </tr>\n",
       "    <tr>\n",
       "      <th>50%</th>\n",
       "      <td>0.000000</td>\n",
       "    </tr>\n",
       "    <tr>\n",
       "      <th>75%</th>\n",
       "      <td>0.200000</td>\n",
       "    </tr>\n",
       "    <tr>\n",
       "      <th>max</th>\n",
       "      <td>1.000000</td>\n",
       "    </tr>\n",
       "  </tbody>\n",
       "</table>\n",
       "</div>"
      ],
      "text/plain": [
       "                  0\n",
       "count  11344.000000\n",
       "mean       0.065035\n",
       "std        0.253463\n",
       "min       -1.000000\n",
       "25%        0.000000\n",
       "50%        0.000000\n",
       "75%        0.200000\n",
       "max        1.000000"
      ]
     },
     "execution_count": 24,
     "metadata": {
      "tags": []
     },
     "output_type": "execute_result"
    }
   ],
   "source": [
    "a.describe()"
   ]
  }
 ],
 "metadata": {
  "colab": {
   "collapsed_sections": [],
   "name": "Group4-Codes",
   "provenance": []
  },
  "kernelspec": {
   "display_name": "Python 3",
   "language": "python",
   "name": "python3"
  },
  "language_info": {
   "codemirror_mode": {
    "name": "ipython",
    "version": 3
   },
   "file_extension": ".py",
   "mimetype": "text/x-python",
   "name": "python",
   "nbconvert_exporter": "python",
   "pygments_lexer": "ipython3",
   "version": "3.8.8"
  }
 },
 "nbformat": 4,
 "nbformat_minor": 1
}
